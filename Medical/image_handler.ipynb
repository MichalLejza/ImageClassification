{
 "cells": [
  {
   "cell_type": "code",
   "id": "initial_id",
   "metadata": {
    "collapsed": true,
    "ExecuteTime": {
     "end_time": "2024-11-22T23:20:50.967952Z",
     "start_time": "2024-11-22T23:20:50.584338Z"
    }
   },
   "source": [
    "import numpy as np\n",
    "import matplotlib.pyplot as plt\n",
    "from ipywidgets import IntSlider, interact\n",
    "import h5py\n",
    "import os\n",
    "import re\n",
    "\n",
    "class ImageHandler:\n",
    "    def __init__(self, dirPath: str):\n",
    "        self.dirPath = dirPath\n",
    "        self.images = {}\n",
    "        self._uploadImages()\n",
    "\n",
    "    def _uploadImages(self):\n",
    "        files = os.listdir(self.dirPath)\n",
    "        for file in files:\n",
    "            if file.endswith('.h5'):\n",
    "                match = re.match(r'volume_(\\d+)_slice_(\\d+)\\.h5', file)\n",
    "                if match:\n",
    "                    volume_number = match.group(1)\n",
    "                    if int(volume_number) not in self.images:\n",
    "                        self.images[int(volume_number)] = []\n",
    "                    self.images[int(volume_number)].append(os.path.join(self.dirPath, file))\n",
    "\n",
    "    def displayImage(self, index):\n",
    "        files = self.images[index]\n",
    "        files.sort(key=lambda x: int(x.split('_')[-1].split('.')[0]))  # Extract slice number from filename\n",
    "        data = []\n",
    "        for file in files:\n",
    "            with h5py.File(file, 'r') as h5_file:\n",
    "                image_data = h5_file['image'][:]  # Adjust the key based on your .h5 structure\n",
    "                min_value = np.min(image_data)\n",
    "                max_value = np.max(image_data)\n",
    "                normalized = (image_data - min_value) / (max_value - min_value)\n",
    "                data.append(normalized)\n",
    "        return data\n",
    "        \n",
    "    def __len__(self):\n",
    "        return len(self.images)\n",
    "\n",
    "\n",
    "# Assuming 'images' is your list of 2D numpy arrays representing brain slices\n",
    "handler = ImageHandler(\"/Users/michallejza/Desktop/Data/BRATS/BraTS2020_training_data/content/data\")\n",
    "images = handler.displayImage(20)\n",
    "\n",
    "def display_image(slice_index):\n",
    "    plt.imshow(images[slice_index], cmap='gray')\n",
    "    plt.axis('off')  # Hide the axis\n",
    "    plt.title(f'Slice: {slice_index}')\n",
    "    plt.show()\n",
    "\n",
    "# Create a slider for the number of slices\n",
    "slice_slider = IntSlider(value=0, min=0, max=len(images)-1, step=1, description='Slice Index')\n",
    "\n",
    "# Use interact to link the slider with the display function\n",
    "interact(display_image, slice_index=slice_slider)"
   ],
   "execution_count": 1,
   "outputs": []
  },
  {
   "cell_type": "code",
   "execution_count": null,
   "id": "1fb760116ad5ad86",
   "metadata": {},
   "source": [],
   "outputs": []
  }
 ],
 "metadata": {
  "kernelspec": {
   "display_name": "venv",
   "language": "python",
   "name": "python3"
  },
  "language_info": {
   "codemirror_mode": {
    "name": "ipython",
    "version": 3
   },
   "file_extension": ".py",
   "mimetype": "text/x-python",
   "name": "python",
   "nbconvert_exporter": "python",
   "pygments_lexer": "ipython3",
   "version": "3.12.7"
  }
 },
 "nbformat": 4,
 "nbformat_minor": 5
}
