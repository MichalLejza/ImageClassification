{
 "cells": [
  {
   "cell_type": "code",
   "id": "initial_id",
   "metadata": {
    "collapsed": true,
    "ExecuteTime": {
     "end_time": "2024-11-22T23:20:50.967952Z",
     "start_time": "2024-11-22T23:20:50.584338Z"
    }
   },
   "source": [
    "import numpy as np\n",
    "import matplotlib.pyplot as plt\n",
    "from ipywidgets import IntSlider, interact\n",
    "import h5py\n",
    "import os\n",
    "import re\n",
    "\n",
    "class ImageHandler:\n",
    "    def __init__(self, dirPath: str):\n",
    "        self.dirPath = dirPath\n",
    "        self.images = {}\n",
    "        self._uploadImages()\n",
    "\n",
    "    def _uploadImages(self):\n",
    "        files = os.listdir(self.dirPath)\n",
    "        for file in files:\n",
    "            if file.endswith('.h5'):\n",
    "                match = re.match(r'volume_(\\d+)_slice_(\\d+)\\.h5', file)\n",
    "                if match:\n",
    "                    volume_number = match.group(1)\n",
    "                    if int(volume_number) not in self.images:\n",
    "                        self.images[int(volume_number)] = []\n",
    "                    self.images[int(volume_number)].append(os.path.join(self.dirPath, file))\n",
    "\n",
    "    def displayImage(self, index):\n",
    "        files = self.images[index]\n",
    "        files.sort(key=lambda x: int(x.split('_')[-1].split('.')[0]))  # Extract slice number from filename\n",
    "        data = []\n",
    "        for file in files:\n",
    "            with h5py.File(file, 'r') as h5_file:\n",
    "                image_data = h5_file['image'][:]  # Adjust the key based on your .h5 structure\n",
    "                min_value = np.min(image_data)\n",
    "                max_value = np.max(image_data)\n",
    "                normalized = (image_data - min_value) / (max_value - min_value)\n",
    "                data.append(normalized)\n",
    "        return data\n",
    "        \n",
    "    def __len__(self):\n",
    "        return len(self.images)\n",
    "\n",
    "\n",
    "# Assuming 'images' is your list of 2D numpy arrays representing brain slices\n",
    "handler = ImageHandler(\"/Users/michallejza/Desktop/Data/BRATS/BraTS2020_training_data/content/data\")\n",
    "images = handler.displayImage(20)\n",
    "\n",
    "def display_image(slice_index):\n",
    "    plt.imshow(images[slice_index], cmap='gray')\n",
    "    plt.axis('off')  # Hide the axis\n",
    "    plt.title(f'Slice: {slice_index}')\n",
    "    plt.show()\n",
    "\n",
    "# Create a slider for the number of slices\n",
    "slice_slider = IntSlider(value=0, min=0, max=len(images)-1, step=1, description='Slice Index')\n",
    "\n",
    "# Use interact to link the slider with the display function\n",
    "interact(display_image, slice_index=slice_slider)"
   ],
   "outputs": [
    {
     "ename": "FileNotFoundError",
     "evalue": "[WinError 3] System nie może odnaleźć określonej ścieżki: '/Users/michallejza/Desktop/Data/BRATS/BraTS2020_training_data/content/data'",
     "output_type": "error",
     "traceback": [
      "\u001B[1;31m---------------------------------------------------------------------------\u001B[0m",
      "\u001B[1;31mFileNotFoundError\u001B[0m                         Traceback (most recent call last)",
      "Cell \u001B[1;32mIn[1], line 43\u001B[0m\n\u001B[0;32m     39\u001B[0m         \u001B[38;5;28;01mreturn\u001B[39;00m \u001B[38;5;28mlen\u001B[39m(\u001B[38;5;28mself\u001B[39m\u001B[38;5;241m.\u001B[39mimages)\n\u001B[0;32m     42\u001B[0m \u001B[38;5;66;03m# Assuming 'images' is your list of 2D numpy arrays representing brain slices\u001B[39;00m\n\u001B[1;32m---> 43\u001B[0m handler \u001B[38;5;241m=\u001B[39m \u001B[43mImageHandler\u001B[49m\u001B[43m(\u001B[49m\u001B[38;5;124;43m\"\u001B[39;49m\u001B[38;5;124;43m/Users/michallejza/Desktop/Data/BRATS/BraTS2020_training_data/content/data\u001B[39;49m\u001B[38;5;124;43m\"\u001B[39;49m\u001B[43m)\u001B[49m\n\u001B[0;32m     44\u001B[0m images \u001B[38;5;241m=\u001B[39m handler\u001B[38;5;241m.\u001B[39mdisplayImage(\u001B[38;5;241m20\u001B[39m)\n\u001B[0;32m     46\u001B[0m \u001B[38;5;28;01mdef\u001B[39;00m \u001B[38;5;21mdisplay_image\u001B[39m(slice_index):\n",
      "Cell \u001B[1;32mIn[1], line 12\u001B[0m, in \u001B[0;36mImageHandler.__init__\u001B[1;34m(self, dirPath)\u001B[0m\n\u001B[0;32m     10\u001B[0m \u001B[38;5;28mself\u001B[39m\u001B[38;5;241m.\u001B[39mdirPath \u001B[38;5;241m=\u001B[39m dirPath\n\u001B[0;32m     11\u001B[0m \u001B[38;5;28mself\u001B[39m\u001B[38;5;241m.\u001B[39mimages \u001B[38;5;241m=\u001B[39m {}\n\u001B[1;32m---> 12\u001B[0m \u001B[38;5;28;43mself\u001B[39;49m\u001B[38;5;241;43m.\u001B[39;49m\u001B[43m_uploadImages\u001B[49m\u001B[43m(\u001B[49m\u001B[43m)\u001B[49m\n",
      "Cell \u001B[1;32mIn[1], line 15\u001B[0m, in \u001B[0;36mImageHandler._uploadImages\u001B[1;34m(self)\u001B[0m\n\u001B[0;32m     14\u001B[0m \u001B[38;5;28;01mdef\u001B[39;00m \u001B[38;5;21m_uploadImages\u001B[39m(\u001B[38;5;28mself\u001B[39m):\n\u001B[1;32m---> 15\u001B[0m     files \u001B[38;5;241m=\u001B[39m \u001B[43mos\u001B[49m\u001B[38;5;241;43m.\u001B[39;49m\u001B[43mlistdir\u001B[49m\u001B[43m(\u001B[49m\u001B[38;5;28;43mself\u001B[39;49m\u001B[38;5;241;43m.\u001B[39;49m\u001B[43mdirPath\u001B[49m\u001B[43m)\u001B[49m\n\u001B[0;32m     16\u001B[0m     \u001B[38;5;28;01mfor\u001B[39;00m file \u001B[38;5;129;01min\u001B[39;00m files:\n\u001B[0;32m     17\u001B[0m         \u001B[38;5;28;01mif\u001B[39;00m file\u001B[38;5;241m.\u001B[39mendswith(\u001B[38;5;124m'\u001B[39m\u001B[38;5;124m.h5\u001B[39m\u001B[38;5;124m'\u001B[39m):\n",
      "\u001B[1;31mFileNotFoundError\u001B[0m: [WinError 3] System nie może odnaleźć określonej ścieżki: '/Users/michallejza/Desktop/Data/BRATS/BraTS2020_training_data/content/data'"
     ]
    }
   ],
   "execution_count": 1
  },
  {
   "cell_type": "code",
   "execution_count": null,
   "id": "1fb760116ad5ad86",
   "metadata": {},
   "outputs": [],
   "source": []
  }
 ],
 "metadata": {
  "kernelspec": {
   "display_name": "venv",
   "language": "python",
   "name": "python3"
  },
  "language_info": {
   "codemirror_mode": {
    "name": "ipython",
    "version": 3
   },
   "file_extension": ".py",
   "mimetype": "text/x-python",
   "name": "python",
   "nbconvert_exporter": "python",
   "pygments_lexer": "ipython3",
   "version": "3.12.7"
  }
 },
 "nbformat": 4,
 "nbformat_minor": 5
}
